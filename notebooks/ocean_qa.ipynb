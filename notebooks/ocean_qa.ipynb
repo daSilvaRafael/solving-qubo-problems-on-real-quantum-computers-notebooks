{
 "cells": [
  {
   "cell_type": "markdown",
   "id": "fdd41136",
   "metadata": {},
   "source": [
    "## Content\n",
    "\n",
    "1. [Methods](#Methods)\n",
    "2. [Problem to QUBO](#Problem-to-QUBO)\n",
    "3. [Exact solver](#Exact-solver)\n",
    "4. [Case n=3](#Case-n=3)\n",
    "5. [Case n=6](#Case-n=6)\n",
    "6. [Case n=12](#Case-n=12)\n",
    "7. [Case n=144](#Case-n=144)"
   ]
  },
  {
   "cell_type": "markdown",
   "id": "16d1b052",
   "metadata": {},
   "source": [
    "### Methods"
   ]
  },
  {
   "cell_type": "code",
   "execution_count": 1,
   "id": "2ce14e32",
   "metadata": {},
   "outputs": [],
   "source": [
    "import numpy as np\n",
    "from pyqubo import Binary as bit\n",
    "import dimod\n",
    "from dwave.system import DWaveSampler\n",
    "from dwave.system import EmbeddingComposite\n",
    "import dwave.inspector\n",
    "from dwave.system import LeapHybridSampler"
   ]
  },
  {
   "cell_type": "markdown",
   "id": "413d2427",
   "metadata": {},
   "source": [
    "### Problem to QUBO"
   ]
  },
  {
   "cell_type": "code",
   "execution_count": 2,
   "id": "55b13ad3",
   "metadata": {},
   "outputs": [],
   "source": [
    "p1, p2, p3 = 30.0, 10.0, 90.0\n",
    "N = 100.0"
   ]
  },
  {
   "cell_type": "code",
   "execution_count": 3,
   "id": "0ea36b17",
   "metadata": {},
   "outputs": [],
   "source": [
    "q1, q2, q3 = bit(\"q1\"), bit(\"q2\"), bit(\"q3\")"
   ]
  },
  {
   "cell_type": "code",
   "execution_count": 4,
   "id": "6d5149e8",
   "metadata": {},
   "outputs": [],
   "source": [
    "function = (- N + p1 * q1 + p2 * q2 +  p3 * q3)**2\n",
    "model = function.compile()"
   ]
  },
  {
   "cell_type": "code",
   "execution_count": 5,
   "id": "5034ae17",
   "metadata": {},
   "outputs": [],
   "source": [
    "L = model.to_qubo()"
   ]
  },
  {
   "cell_type": "markdown",
   "id": "b7e07b35",
   "metadata": {},
   "source": [
    "### Exact solver"
   ]
  },
  {
   "cell_type": "code",
   "execution_count": 6,
   "id": "63d0ee4f",
   "metadata": {},
   "outputs": [],
   "source": [
    "ex_sampler = dimod.ExactSolver()\n",
    "qubo_sample_set = ex_sampler.sample_qubo(L[0])"
   ]
  },
  {
   "cell_type": "code",
   "execution_count": 7,
   "id": "dd42567f",
   "metadata": {},
   "outputs": [
    {
     "name": "stdout",
     "output_type": "stream",
     "text": [
      "  q1 q2 q3   energy num_oc.\n",
      "4  0  1  1 -10000.0       1\n",
      "3  0  0  1  -9900.0       1\n",
      "2  1  0  1  -9600.0       1\n",
      "5  1  1  1  -9100.0       1\n",
      "6  1  1  0  -6400.0       1\n",
      "1  1  0  0  -5100.0       1\n",
      "7  0  1  0  -1900.0       1\n",
      "0  0  0  0      0.0       1\n",
      "['BINARY', 8 rows, 8 samples, 3 variables]\n"
     ]
    }
   ],
   "source": [
    "print(qubo_sample_set)"
   ]
  },
  {
   "cell_type": "code",
   "execution_count": 8,
   "id": "306de2ed",
   "metadata": {},
   "outputs": [
    {
     "name": "stdout",
     "output_type": "stream",
     "text": [
      "  q1 q2 q3  energy num_oc.\n",
      "6  0  1  1     0.0       1\n",
      "1  0  0  1   100.0       1\n",
      "2  1  0  1   400.0       1\n",
      "5  1  1  1   900.0       1\n",
      "4  1  1  0  3600.0       1\n",
      "3  1  0  0  4900.0       1\n",
      "7  0  1  0  8100.0       1\n",
      "0  0  0  0 10000.0       1\n",
      "['BINARY', 8 rows, 8 samples, 3 variables]\n"
     ]
    }
   ],
   "source": [
    "bqm_3_qb = model.to_bqm()\n",
    "bqm_sample_set = ex_sampler.sample(bqm_3_qb)\n",
    "print(bqm_sample_set)"
   ]
  },
  {
   "cell_type": "markdown",
   "id": "4005b76b",
   "metadata": {},
   "source": [
    "#### Hybrid solver"
   ]
  },
  {
   "cell_type": "code",
   "execution_count": 9,
   "id": "0b35a807",
   "metadata": {},
   "outputs": [],
   "source": [
    "hb_sampler = LeapHybridSampler(solver={'category': 'hybrid'})"
   ]
  },
  {
   "cell_type": "code",
   "execution_count": 10,
   "id": "98d3f9c0",
   "metadata": {},
   "outputs": [],
   "source": [
    "qpu_sampler = DWaveSampler(solver={'topology__type': 'pegasus'})"
   ]
  },
  {
   "cell_type": "code",
   "execution_count": 11,
   "id": "e8d6321e",
   "metadata": {},
   "outputs": [
    {
     "data": {
      "text/plain": [
       "'Advantage_system6.4'"
      ]
     },
     "execution_count": 11,
     "metadata": {},
     "output_type": "execute_result"
    }
   ],
   "source": [
    "qpu_sampler.properties['chip_id']"
   ]
  },
  {
   "cell_type": "code",
   "execution_count": 12,
   "id": "9fb545d5",
   "metadata": {},
   "outputs": [],
   "source": [
    "pegasus_sampler = EmbeddingComposite(qpu_sampler)"
   ]
  },
  {
   "cell_type": "code",
   "execution_count": 24,
   "id": "1eded7a2",
   "metadata": {},
   "outputs": [],
   "source": [
    "cs =  100000"
   ]
  },
  {
   "cell_type": "markdown",
   "id": "e4d5af9c",
   "metadata": {},
   "source": [
    "### Case n=3"
   ]
  },
  {
   "cell_type": "code",
   "execution_count": 25,
   "id": "c49a0c79",
   "metadata": {},
   "outputs": [],
   "source": [
    "nr = 10\n",
    "at = 4\n",
    "sample_results = pegasus_sampler.sample(bqm_3_qb, num_reads=nr, annealing_time=at, chain_strength =cs,label='qubo_3')"
   ]
  },
  {
   "cell_type": "code",
   "execution_count": 14,
   "id": "0b17aec4",
   "metadata": {},
   "outputs": [
    {
     "name": "stdout",
     "output_type": "stream",
     "text": [
      "  q1 q2 q3 energy num_oc. chain_.\n",
      "0  0  1  1    0.0       5     0.0\n",
      "1  0  0  1  100.0       4     0.0\n",
      "2  1  0  1  400.0       1     0.0\n",
      "['BINARY', 3 rows, 10 samples, 3 variables]\n"
     ]
    }
   ],
   "source": [
    "print(sample_results)"
   ]
  },
  {
   "cell_type": "code",
   "execution_count": 26,
   "id": "cc9ebea0",
   "metadata": {
    "scrolled": false
   },
   "outputs": [
    {
     "data": {
      "text/html": [
       "<iframe src=http://127.0.0.1:18000/?problemId=d75acec6-aad7-4d86-938e-5a3554ac6843 width=\"100%\" height=640></iframe>"
      ],
      "text/plain": [
       "Serving Inspector on http://127.0.0.1:18000/?problemId=d75acec6-aad7-4d86-938e-5a3554ac6843"
      ]
     },
     "metadata": {},
     "output_type": "display_data"
    },
    {
     "data": {
      "text/plain": [
       "'http://127.0.0.1:18000/?problemId=d75acec6-aad7-4d86-938e-5a3554ac6843'"
      ]
     },
     "execution_count": 26,
     "metadata": {},
     "output_type": "execute_result"
    }
   ],
   "source": [
    "dwave.inspector.show(sample_results)"
   ]
  },
  {
   "cell_type": "code",
   "execution_count": 16,
   "id": "53895642",
   "metadata": {},
   "outputs": [],
   "source": [
    "tl = 3\n",
    "hb_name = f'hb_qubo_{3}_t{tl}'\n",
    "hb_3_qb_results = hb_sampler.sample(bqm_3_qb, time_limit=tl, label=hb_name)"
   ]
  },
  {
   "cell_type": "code",
   "execution_count": 17,
   "id": "b03be56c",
   "metadata": {},
   "outputs": [
    {
     "name": "stdout",
     "output_type": "stream",
     "text": [
      "  q1 q2 q3 energy num_oc.\n",
      "0  0  1  1    0.0       1\n",
      "['BINARY', 1 rows, 1 samples, 3 variables]\n"
     ]
    }
   ],
   "source": [
    "print(hb_3_qb_results)"
   ]
  },
  {
   "cell_type": "markdown",
   "id": "4d0bb98b",
   "metadata": {},
   "source": [
    "### Case n=6"
   ]
  },
  {
   "cell_type": "code",
   "execution_count": 18,
   "id": "d39058e0",
   "metadata": {},
   "outputs": [],
   "source": [
    "set_seed = 3"
   ]
  },
  {
   "cell_type": "code",
   "execution_count": 19,
   "id": "11abe3f0",
   "metadata": {},
   "outputs": [],
   "source": [
    "add_qubits = 3\n",
    "\n",
    "np.random.seed(set_seed)\n",
    "\n",
    "qubits = [bit(\"q1\"), bit(\"q2\"), bit(\"q3\")]\n",
    "\n",
    "asset_6_prices = [p1, p2, p3]\n",
    "function = -N + p1 * qubits[0] + p2 * qubits[1] +  p3 * qubits[2]\n",
    "\n",
    "for i in range(add_qubits):\n",
    "    \n",
    "    delta = np.random.uniform(size=1)\n",
    "    price = np.ceil(200 * delta[0]) \n",
    "    asset_6_prices.append(price)\n",
    "    \n",
    "    qubits.append(bit(f\"q{4 + i}\"))\n",
    "    \n",
    "    function += price * bit(f\"q{4 + i}\")\n",
    "    \n",
    "square_function = function**2"
   ]
  },
  {
   "cell_type": "code",
   "execution_count": 20,
   "id": "2751eee2",
   "metadata": {},
   "outputs": [
    {
     "data": {
      "text/plain": [
       "[30.0, 10.0, 90.0, 111.0, 142.0, 59.0]"
      ]
     },
     "execution_count": 20,
     "metadata": {},
     "output_type": "execute_result"
    }
   ],
   "source": [
    "asset_6_prices"
   ]
  },
  {
   "cell_type": "code",
   "execution_count": 21,
   "id": "24e7a245",
   "metadata": {},
   "outputs": [],
   "source": [
    "model_6_qb = square_function.compile()\n",
    "bqm_6_qb = model_6_qb.to_bqm()"
   ]
  },
  {
   "cell_type": "code",
   "execution_count": 51,
   "id": "c141cf05",
   "metadata": {},
   "outputs": [],
   "source": [
    "nr = 10\n",
    "at = 5\n",
    "name = f\"qubo_{nr}_t{at}\"\n",
    "sample_results_6_qb = pegasus_sampler.sample(bqm_6_qb, num_reads=nr, annealing_time=at, chain_strength =cs,label=name)"
   ]
  },
  {
   "cell_type": "code",
   "execution_count": 52,
   "id": "324da4ce",
   "metadata": {},
   "outputs": [
    {
     "name": "stdout",
     "output_type": "stream",
     "text": [
      "  q1 q2 q3 q4 q5 q6  energy num_oc. chain_.\n",
      "0  0  1  1  0  0  0     0.0       1     0.0\n",
      "1  1  0  1  0  0  0   400.0       1     0.0\n",
      "2  0  1  1  0  0  1  3481.0       1     0.0\n",
      "3  1  0  0  0  1  0  5184.0       1     0.0\n",
      "4  1  1  0  0  1  0  6724.0       1     0.0\n",
      "5  0  0  0  0  1  1 10201.0       1     0.0\n",
      "6  0  1  1  1  0  0 12321.0       1     0.0\n",
      "7  0  0  1  0  1  0 17424.0       1     0.0\n",
      "8  0  1  1  0  1  0 20164.0       1     0.0\n",
      "9  1  0  1  0  1  1 48841.0       1     0.0\n",
      "['BINARY', 10 rows, 10 samples, 6 variables]\n"
     ]
    }
   ],
   "source": [
    "print(sample_results_6_qb)"
   ]
  },
  {
   "cell_type": "code",
   "execution_count": 53,
   "id": "181c78d4",
   "metadata": {
    "scrolled": false
   },
   "outputs": [
    {
     "data": {
      "text/html": [
       "<iframe src=http://127.0.0.1:18000/?problemId=020ec3e3-7ec4-4d42-854e-65c99e98f3ca width=\"100%\" height=640></iframe>"
      ],
      "text/plain": [
       "Serving Inspector on http://127.0.0.1:18000/?problemId=020ec3e3-7ec4-4d42-854e-65c99e98f3ca"
      ]
     },
     "metadata": {},
     "output_type": "display_data"
    },
    {
     "data": {
      "text/plain": [
       "'http://127.0.0.1:18000/?problemId=020ec3e3-7ec4-4d42-854e-65c99e98f3ca'"
      ]
     },
     "execution_count": 53,
     "metadata": {},
     "output_type": "execute_result"
    }
   ],
   "source": [
    "dwave.inspector.show(sample_results_6_qb)"
   ]
  },
  {
   "cell_type": "code",
   "execution_count": 54,
   "id": "52a0f3c7",
   "metadata": {},
   "outputs": [],
   "source": [
    "tl = 3\n",
    "hb_name = f'hb_qubo_{len(asset_6_prices)}_t{tl}'\n",
    "hb_6_qb_results = hb_sampler.sample(bqm_6_qb, time_limit=tl, label=hb_name)"
   ]
  },
  {
   "cell_type": "code",
   "execution_count": 55,
   "id": "3d547946",
   "metadata": {},
   "outputs": [
    {
     "name": "stdout",
     "output_type": "stream",
     "text": [
      "  q1 q2 q3 q4 q5 q6 energy num_oc.\n",
      "0  0  1  1  0  0  0    0.0       1\n",
      "['BINARY', 1 rows, 1 samples, 6 variables]\n"
     ]
    }
   ],
   "source": [
    "print(hb_6_qb_results)"
   ]
  },
  {
   "cell_type": "markdown",
   "id": "e29117ba",
   "metadata": {},
   "source": [
    "### Case n=12"
   ]
  },
  {
   "cell_type": "code",
   "execution_count": 56,
   "id": "d9f49e61",
   "metadata": {},
   "outputs": [],
   "source": [
    "add_qubits = 9\n",
    "\n",
    "np.random.seed(set_seed)\n",
    "\n",
    "qubits = [bit(\"q1\"), bit(\"q2\"), bit(\"q3\")]\n",
    "\n",
    "asset_12_prices = [p1, p2, p3]\n",
    "function = -N + p1 * qubits[0] + p2 * qubits[1] +  p3 * qubits[2]\n",
    "\n",
    "for i in range(add_qubits):\n",
    "    \n",
    "    delta = np.random.uniform(size=1)\n",
    "    price = np.ceil(200 * delta[0]) \n",
    "    asset_12_prices.append(price)\n",
    "    \n",
    "    qubits.append(bit(f\"q{4 + i}\"))\n",
    "    \n",
    "    function += price * bit(f\"q{4 + i}\")\n",
    "    \n",
    "square_function = function**2"
   ]
  },
  {
   "cell_type": "code",
   "execution_count": 57,
   "id": "16588e1b",
   "metadata": {
    "scrolled": true
   },
   "outputs": [
    {
     "data": {
      "text/plain": [
       "[30.0, 10.0, 90.0, 111.0, 142.0, 59.0, 103.0, 179.0, 180.0, 26.0, 42.0, 11.0]"
      ]
     },
     "execution_count": 57,
     "metadata": {},
     "output_type": "execute_result"
    }
   ],
   "source": [
    "asset_12_prices"
   ]
  },
  {
   "cell_type": "code",
   "execution_count": 58,
   "id": "99f66b65",
   "metadata": {},
   "outputs": [],
   "source": [
    "model_12_qb = square_function.compile()\n",
    "bqm_12_qb = model_12_qb.to_bqm()"
   ]
  },
  {
   "cell_type": "code",
   "execution_count": 71,
   "id": "ecc22155",
   "metadata": {},
   "outputs": [],
   "source": [
    "nr = 10\n",
    "at = 6\n",
    "name = f\"qubo_{nr}_t{at}\"\n",
    "sample_results_12_qb = pegasus_sampler.sample(bqm_12_qb, num_reads=nr, annealing_time=at, chain_strength =cs,label=name)"
   ]
  },
  {
   "cell_type": "code",
   "execution_count": 72,
   "id": "dc006c75",
   "metadata": {},
   "outputs": [
    {
     "name": "stdout",
     "output_type": "stream",
     "text": [
      "  q1 q10 q11 q12 q2 q3 q4 q5 q6 q7 q8 q9 energy num_oc. chain_.\n",
      "0  1   0   0   1  0  0  0  0  1  0  0  0    0.0       2     0.0\n",
      "1  1   0   0   1  1  0  0  0  1  0  0  0  100.0       1     0.0\n",
      "2  1   0   1   1  0  0  0  0  0  0  0  0  289.0       1     0.0\n",
      "3  1   0   1   0  0  0  0  0  1  0  0  0  961.0       1     0.0\n",
      "4  1   0   1   1  0  0  0  0  1  0  0  0 1764.0       1     0.0\n",
      "5  0   0   1   1  0  1  0  0  0  0  0  0 1849.0       1     0.0\n",
      "6  1   1   1   0  0  0  0  0  1  0  0  0 3249.0       1     0.0\n",
      "7  0   0   0   0  0  0  0  0  1  1  0  0 3844.0       1     0.0\n",
      "8  1   1   1   1  0  1  0  0  0  0  0  0 9801.0       1     0.0\n",
      "['BINARY', 9 rows, 10 samples, 12 variables]\n"
     ]
    }
   ],
   "source": [
    "print(sample_results_12_qb)"
   ]
  },
  {
   "cell_type": "code",
   "execution_count": 73,
   "id": "bc76cb18",
   "metadata": {},
   "outputs": [
    {
     "data": {
      "text/html": [
       "<iframe src=http://127.0.0.1:18000/?problemId=b4fdb3fe-a803-4952-9053-c9238f8a99cc width=\"100%\" height=640></iframe>"
      ],
      "text/plain": [
       "Serving Inspector on http://127.0.0.1:18000/?problemId=b4fdb3fe-a803-4952-9053-c9238f8a99cc"
      ]
     },
     "metadata": {},
     "output_type": "display_data"
    },
    {
     "data": {
      "text/plain": [
       "'http://127.0.0.1:18000/?problemId=b4fdb3fe-a803-4952-9053-c9238f8a99cc'"
      ]
     },
     "execution_count": 73,
     "metadata": {},
     "output_type": "execute_result"
    }
   ],
   "source": [
    "dwave.inspector.show(sample_results_12_qb)"
   ]
  },
  {
   "cell_type": "code",
   "execution_count": 76,
   "id": "e5b2c1c4",
   "metadata": {},
   "outputs": [],
   "source": [
    "tl = 3\n",
    "hb_name = f'hb_qubo_{len(asset_12_prices)}_t{tl}'\n",
    "hb_12_qb_results = hb_sampler.sample(bqm_12_qb, time_limit=tl, label=hb_name)"
   ]
  },
  {
   "cell_type": "code",
   "execution_count": 77,
   "id": "173e6039",
   "metadata": {},
   "outputs": [
    {
     "name": "stdout",
     "output_type": "stream",
     "text": [
      "  q1 q10 q11 q12 q2 q3 q4 q5 q6 q7 q8 q9 energy num_oc.\n",
      "0  1   0   0   1  0  0  0  0  1  0  0  0    0.0       1\n",
      "['BINARY', 1 rows, 1 samples, 12 variables]\n"
     ]
    }
   ],
   "source": [
    "print(hb_12_qb_results)"
   ]
  },
  {
   "cell_type": "code",
   "execution_count": 78,
   "id": "c4c1bc80",
   "metadata": {},
   "outputs": [
    {
     "data": {
      "text/plain": [
       "[30.0, 10.0, 90.0, 111.0, 142.0, 59.0, 103.0, 179.0, 180.0, 26.0, 42.0, 11.0]"
      ]
     },
     "execution_count": 78,
     "metadata": {},
     "output_type": "execute_result"
    }
   ],
   "source": [
    "asset_12_prices"
   ]
  },
  {
   "cell_type": "markdown",
   "id": "0f36a7fe",
   "metadata": {},
   "source": [
    "### Case n=144"
   ]
  },
  {
   "cell_type": "code",
   "execution_count": 79,
   "id": "d0a973ae",
   "metadata": {},
   "outputs": [],
   "source": [
    "add_qubits = 141\n",
    "\n",
    "np.random.seed(set_seed)\n",
    "\n",
    "qubits = [bit(\"q1\"), bit(\"q2\"), bit(\"q3\")]\n",
    "\n",
    "asset_144_prices = [p1, p2, p3]\n",
    "function = -N + p1 * qubits[0] + p2 * qubits[1] +  p3 * qubits[2]\n",
    "\n",
    "for i in range(add_qubits):\n",
    "    delta = np.random.uniform(size=1)\n",
    "    price = np.ceil(200 * delta[0]) \n",
    "    asset_144_prices.append(price)\n",
    "    \n",
    "    qubits.append(bit(f\"q{4 + i}\"))\n",
    "    \n",
    "    function += price * bit(f\"q{4 + i}\")\n",
    "    \n",
    "square_function = function**2"
   ]
  },
  {
   "cell_type": "code",
   "execution_count": 80,
   "id": "17fa31e7",
   "metadata": {
    "scrolled": true
   },
   "outputs": [
    {
     "name": "stdout",
     "output_type": "stream",
     "text": [
      "[30.0, 10.0, 90.0, 111.0, 142.0, 59.0, 103.0, 179.0, 180.0, 26.0, 42.0, 11.0, 89.0, 6.0, 92.0, 130.0, 56.0, 136.0, 119.0, 5.0, 112.0, 52.0, 84.0, 57.0, 139.0, 89.0, 32.0, 109.0, 157.0, 62.0, 45.0, 78.0, 188.0, 196.0, 135.0, 181.0, 170.0, 76.0, 19.0, 131.0, 112.0, 73.0, 46.0, 82.0, 94.0, 54.0, 59.0, 92.0, 173.0, 118.0, 57.0, 56.0, 91.0, 42.0, 41.0, 103.0, 18.0, 97.0, 73.0, 142.0, 150.0, 139.0, 138.0, 75.0, 134.0, 68.0, 115.0, 66.0, 90.0, 13.0, 49.0, 195.0, 47.0, 139.0, 131.0, 145.0, 96.0, 120.0, 14.0, 15.0, 40.0, 31.0, 21.0, 26.0, 111.0, 38.0, 191.0, 137.0, 109.0, 142.0, 53.0, 186.0, 168.0, 146.0, 97.0, 169.0, 149.0, 133.0, 183.0, 127.0, 74.0, 111.0, 40.0, 39.0, 146.0, 157.0, 195.0, 171.0, 109.0, 18.0, 98.0, 186.0, 158.0, 98.0, 92.0, 44.0, 36.0, 15.0, 179.0, 129.0, 29.0, 83.0, 10.0, 42.0, 147.0, 131.0, 96.0, 55.0, 131.0, 192.0, 88.0, 15.0, 12.0, 17.0, 192.0, 109.0, 168.0, 35.0, 53.0, 139.0, 180.0, 69.0, 13.0, 173.0]\n"
     ]
    }
   ],
   "source": [
    "print(asset_144_prices)"
   ]
  },
  {
   "cell_type": "code",
   "execution_count": 81,
   "id": "2a6a1938",
   "metadata": {},
   "outputs": [],
   "source": [
    "model_144_qb = square_function.compile()\n",
    "bqm_144_qb = model_144_qb.to_bqm()"
   ]
  },
  {
   "cell_type": "code",
   "execution_count": 82,
   "id": "01dd3897",
   "metadata": {},
   "outputs": [],
   "source": [
    "nr = 10\n",
    "at = 20\n",
    "name = f\"qubo_{nr}_t{at}\"\n",
    "sample_results_144_qb = pegasus_sampler.sample(bqm_144_qb, num_reads=nr, annealing_time=at, chain_strength=cs,label=name)"
   ]
  },
  {
   "cell_type": "code",
   "execution_count": 83,
   "id": "bf0ba091",
   "metadata": {},
   "outputs": [
    {
     "name": "stdout",
     "output_type": "stream",
     "text": [
      "  q1 q10 q100 q101 q102 q103 q104 q105 q106 q107 ... q99    energy num_oc. ...\n",
      "0  0   1    0    0    0    0    1    0    0    0 ...   0 1483524.0       1 ...\n",
      "7  0   1    0    0    0    0    0    0    0    0 ...   0 1758276.0       1 ...\n",
      "1  0   1    0    0    0    0    1    0    0    0 ...   0 1811716.0       1 ...\n",
      "4  0   1    0    0    0    0    0    0    0    0 ...   0 1811716.0       1 ...\n",
      "3  0   0    0    0    0    0    0    0    0    0 ...   0 1819801.0       1 ...\n",
      "5  0   0    0    0    1    0    1    0    0    0 ...   0 1915456.0       1 ...\n",
      "9  0   0    0    0    0    0    1    0    0    0 ...   0 2076481.0       1 ...\n",
      "2  0   1    0    0    1    0    1    0    0    0 ...   0 2660161.0       1 ...\n",
      "8  0   1    0    0    0    0    1    0    0    0 ...   0 2666689.0       1 ...\n",
      "6  0   1    0    0    0    0    0    0    0    0 ...   0 2805625.0       1 ...\n",
      "['BINARY', 10 rows, 10 samples, 144 variables]\n"
     ]
    }
   ],
   "source": [
    "print(sample_results_144_qb)"
   ]
  },
  {
   "cell_type": "code",
   "execution_count": 96,
   "id": "3ebfe4a8",
   "metadata": {},
   "outputs": [
    {
     "data": {
      "text/plain": [
       "{'energy': array([1483524., 1811716., 2660161., 1819801., 1811716., 1915456.,\n",
       "        2805625., 1758276., 2666689., 2076481.]),\n",
       " 'num_occurrences': array([1, 1, 1, 1, 1, 1, 1, 1, 1, 1]),\n",
       " 'chain_break_fraction': array([0.44444444, 0.44444444, 0.44444444, 0.44444444, 0.45138889,\n",
       "        0.4375    , 0.47916667, 0.43055556, 0.45138889, 0.46527778])}"
      ]
     },
     "execution_count": 96,
     "metadata": {},
     "output_type": "execute_result"
    }
   ],
   "source": [
    "sample_results_144_qb.data_vectors"
   ]
  },
  {
   "cell_type": "code",
   "execution_count": 85,
   "id": "f9e4c45b",
   "metadata": {},
   "outputs": [
    {
     "data": {
      "text/html": [
       "<iframe src=http://127.0.0.1:18000/?problemId=2488e944-a594-4796-98c5-ff82ebf2c803 width=\"100%\" height=640></iframe>"
      ],
      "text/plain": [
       "Serving Inspector on http://127.0.0.1:18000/?problemId=2488e944-a594-4796-98c5-ff82ebf2c803"
      ]
     },
     "metadata": {},
     "output_type": "display_data"
    },
    {
     "data": {
      "text/plain": [
       "'http://127.0.0.1:18000/?problemId=2488e944-a594-4796-98c5-ff82ebf2c803'"
      ]
     },
     "execution_count": 85,
     "metadata": {},
     "output_type": "execute_result"
    }
   ],
   "source": [
    "dwave.inspector.show(sample_results_144_qb)"
   ]
  },
  {
   "cell_type": "code",
   "execution_count": 86,
   "id": "3962d0c0",
   "metadata": {},
   "outputs": [],
   "source": [
    "qubits = [i for i in sample_results_144_qb.first]\n",
    "solution = [ (k, qubits[0][k]) for k in qubits[0] if qubits[0][k] !=0 ]"
   ]
  },
  {
   "cell_type": "code",
   "execution_count": 87,
   "id": "e6ca808c",
   "metadata": {},
   "outputs": [
    {
     "name": "stdout",
     "output_type": "stream",
     "text": [
      "[42.0, 146.0, 186.0, 15.0, 131.0, 15.0, 35.0, 92.0, 180.0, 112.0, 19.0, 142.0, 112.0, 54.0, 49.0, 139.0, 131.0, 26.0, 111.0]\n"
     ]
    }
   ],
   "source": [
    "solution_prices = [asset_144_prices[int(s[0].split('q')[1])] for s in solution]\n",
    "print(solution_prices)"
   ]
  },
  {
   "cell_type": "code",
   "execution_count": 88,
   "id": "6f739c1e",
   "metadata": {},
   "outputs": [],
   "source": [
    "tl = 3\n",
    "hb_name = f'hb_qubo_{len(asset_144_prices)}_t{tl}'\n",
    "hb_sample_results = hb_sampler.sample(bqm_144_qb, time_limit=tl, label=hb_name)"
   ]
  },
  {
   "cell_type": "code",
   "execution_count": 46,
   "id": "4b55e1fc",
   "metadata": {},
   "outputs": [
    {
     "name": "stdout",
     "output_type": "stream",
     "text": [
      "  q1 q10 q100 q101 q102 q103 q104 q105 q106 q107 q108 ... q99 energy num_oc.\n",
      "0  0   1    0    0    0    0    1    0    0    0    0 ...   0    0.0       1\n",
      "['BINARY', 1 rows, 1 samples, 144 variables]\n"
     ]
    }
   ],
   "source": [
    "print(hb_sample_results)"
   ]
  },
  {
   "cell_type": "code",
   "execution_count": 89,
   "id": "f4fdaf3d",
   "metadata": {},
   "outputs": [
    {
     "data": {
      "text/plain": [
       "[('q1', 1), ('q121', 1), ('q123', 1), ('q133', 1), ('q14', 1), ('q143', 1)]"
      ]
     },
     "execution_count": 89,
     "metadata": {},
     "output_type": "execute_result"
    }
   ],
   "source": [
    "qubits = [i for i in hb_sample_results.first]\n",
    "solution = [ (k, qubits[0][k]) for k in qubits[0] if qubits[0][k] !=0 ]\n",
    "solution"
   ]
  },
  {
   "cell_type": "code",
   "execution_count": 92,
   "id": "ed7a57e7",
   "metadata": {},
   "outputs": [
    {
     "name": "stdout",
     "output_type": "stream",
     "text": [
      "[('q1', 30.0), ('q121', 29.0), ('q123', 10.0), ('q133', 12.0), ('q14', 6.0), ('q143', 13.0)]\n"
     ]
    }
   ],
   "source": [
    "solution_prices = [(s[0],asset_144_prices[int(s[0].split('q')[1])-1]) for s in solution]\n",
    "print(solution_prices)"
   ]
  }
 ],
 "metadata": {
  "authors": [
   {
    "name": "Rafael Pereira da Silva"
   }
  ],
  "kernelspec": {
   "display_name": "py_qubo_qd",
   "language": "python",
   "name": "py_qubo_qd"
  },
  "language_info": {
   "codemirror_mode": {
    "name": "ipython",
    "version": 3
   },
   "file_extension": ".py",
   "mimetype": "text/x-python",
   "name": "python",
   "nbconvert_exporter": "python",
   "pygments_lexer": "ipython3",
   "version": "3.11.9"
  }
 },
 "nbformat": 4,
 "nbformat_minor": 5
}
